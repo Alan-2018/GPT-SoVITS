{
 "cells": [
  {
   "cell_type": "markdown",
   "metadata": {},
   "source": [
    "bak"
   ]
  },
  {
   "cell_type": "markdown",
   "metadata": {},
   "source": [
    "ImportError: libcudnn*.so*: cannot open shared object file\n",
    "\n",
    "ref:\n",
    "1. https://www.cnblogs.com/devilmaycry812839668/p/18005031 # python运行报错：ImportError: libcudnn_cnn_infer.so.8: cannot open shared object file\n",
    "2. https://blog.csdn.net/qq_44824148/article/details/136291718 # Could not load library libcudnn_ops_infer.so.8.\n",
    "\n",
    "\n"
   ]
  },
  {
   "cell_type": "code",
   "execution_count": null,
   "metadata": {},
   "outputs": [],
   "source": [
    "'''\n",
    "# C-TODO\n",
    "1. run\n",
    "2. mv large file to extra storage\n",
    "'''\n",
    "\n"
   ]
  },
  {
   "cell_type": "code",
   "execution_count": null,
   "metadata": {},
   "outputs": [],
   "source": [
    "'''\n",
    "tools/asr/fasterwhisper_asr.py\n",
    "'''\n",
    "\n",
    "'''\n",
    "if __name__ == '__main__':\n",
    "    # ...\n",
    "\n",
    "    # cmd = parser.parse_known_args()\n",
    "    output_file_path = execute_asr(\n",
    "        input_folder  = \"/home/diy/congcan/source/GPT-SoVITS/train_data/hongshen/slicer_opt\",\n",
    "        output_folder = \"output/asr_opt\", \n",
    "        model_size    = 'large-v3',\n",
    "        language      = 'zh',\n",
    "        precision     = 'float16',\n",
    "    )\n",
    "\n",
    "'''\n",
    "\n"
   ]
  },
  {
   "cell_type": "markdown",
   "metadata": {},
   "source": [
    "PS:\n",
    "1. ntfs extra storage mod is 777 and could not be changed.\n",
    "2. `777` has effect on git repo.\n",
    "3. `^M` affects too.\n",
    "4. mv `Fengshenbang-LM` to ubuntu from windows.\n",
    "\n",
    "\n"
   ]
  }
 ],
 "metadata": {
  "language_info": {
   "name": "python"
  }
 },
 "nbformat": 4,
 "nbformat_minor": 2
}
